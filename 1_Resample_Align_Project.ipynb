{
 "cells": [
  {
   "cell_type": "code",
   "execution_count": 14,
   "metadata": {},
   "outputs": [],
   "source": [
    "from osgeo import gdal\n",
    "import os\n",
    "\n"
   ]
  },
  {
   "cell_type": "markdown",
   "metadata": {},
   "source": [
    "# Reproject and clip input rasters"
   ]
  },
  {
   "cell_type": "code",
   "execution_count": 15,
   "metadata": {},
   "outputs": [],
   "source": [
    "\n",
    "def openRaster(raster):\n",
    "    closeOnExit = False\n",
    "    try:\n",
    "        raster.GetProjection()\n",
    "        openRaster = raster\n",
    "    except AttributeError:\n",
    "        openRaster = gdal.Open(raster)\n",
    "        closeOnExit = True\n",
    "    return openRaster, closeOnExit\n",
    "\n",
    "\n",
    "\n",
    "def getRasterInfo(raster):\n",
    "\n",
    "    r, closeOnExit = openRaster(raster)\n",
    "    proj = r.GetProjection()\n",
    "    gt = r.GetGeoTransform()\n",
    "    sizeX = r.RasterXSize\n",
    "    sizeY = r.RasterYSize\n",
    "    extent = [gt[0], gt[3]+gt[5]*sizeY, gt[0]+gt[1]*sizeX, gt[3]]\n",
    "    bands = r.RasterCount\n",
    "    if closeOnExit:\n",
    "        r = None\n",
    "  \n",
    "    return proj, gt, sizeX, sizeY, extent, \n",
    "\n",
    "def resampleWithGdalWarp(srcFile, templateFile, outFile=\"\", outFormat=\"MEM\",\n",
    "                         resampleAlg=\"near\"):\n",
    "    # Get template projection, extent and resolution\n",
    "    proj, gt, sizeX, sizeY, extent= getRasterInfo(templateFile)\n",
    "    # Resample with GDAL warp\n",
    "    outDs = gdal.Warp(outFile,\n",
    "                      srcFile,\n",
    "                      format=outFormat,\n",
    "                      dstSRS=proj,\n",
    "                      xRes=gt[1],\n",
    "                      yRes=gt[5],\n",
    "                      outputBounds=extent,\n",
    "                      resampleAlg=resampleAlg)\n",
    "    print(outFile)"
   ]
  },
  {
   "cell_type": "code",
   "execution_count": 17,
   "metadata": {},
   "outputs": [],
   "source": [
    "template = \"/nas02/kegro/dk-sentinel-2/2022/interpolated/32VNH/B08/S2_32VNH_20220105_B08.tif\"\n",
    "raster = \"/nas02/sulova/13_innoforest/World_Cover_32VNH.tif\"\n",
    "output_file = os.path.join(os.path.dirname(raster), '{}_near.tif'.format(os.path.basename(raster).split('\\\\')[-1][:-4])) "
   ]
  },
  {
   "cell_type": "markdown",
   "metadata": {},
   "source": [
    "- Change to different method if does not fit your purpose: ResampleAlg=\"near\""
   ]
  },
  {
   "cell_type": "code",
   "execution_count": 8,
   "metadata": {},
   "outputs": [
    {
     "name": "stdout",
     "output_type": "stream",
     "text": [
      "/nas02/sulova/13_innoforest/World_Cover_32VNH_align.tif\n"
     ]
    }
   ],
   "source": [
    "resampleWithGdalWarp(raster, template, outFile=output_file, outFormat=\"GTiff\", resampleAlg=\"near\")"
   ]
  },
  {
   "cell_type": "markdown",
   "metadata": {},
   "source": [
    "# Mask"
   ]
  },
  {
   "cell_type": "markdown",
   "metadata": {},
   "source": [
    " - Define the mask ouput file"
   ]
  },
  {
   "cell_type": "code",
   "execution_count": 50,
   "metadata": {},
   "outputs": [],
   "source": [
    "input_raster =  output_file\n",
    "output_file_mask = os.path.join(os.path.dirname(input_raster), '{}_mask.tif'.format(os.path.basename(input_raster).split('\\\\')[-1][:-4])) "
   ]
  },
  {
   "cell_type": "code",
   "execution_count": 67,
   "metadata": {},
   "outputs": [
    {
     "name": "stdout",
     "output_type": "stream",
     "text": [
      "{'driver': 'GTiff', 'dtype': 'uint8', 'nodata': 0.0, 'width': 10980, 'height': 10980, 'count': 1, 'crs': CRS({'init': 'epsg:32632'}), 'transform': Affine(10.0, 0.0, 499980.0,\n",
      "       0.0, -10.0, 6300000.0), 'tiled': False, 'interleave': 'band'}\n",
      "{'driver': 'GTiff', 'dtype': 'uint8', 'nodata': 99, 'width': 10980, 'height': 10980, 'count': 1, 'crs': CRS({'init': 'epsg:32632'}), 'transform': Affine(10.0, 0.0, 499980.0,\n",
      "       0.0, -10.0, 6300000.0), 'tiled': False, 'interleave': 'band'}\n"
     ]
    }
   ],
   "source": [
    "import rasterio as rst\n",
    "import numpy as np\n",
    "\n",
    "with rst.open(input_raster) as src:\n",
    "        data = src.read(1)\n",
    "        data = np.where(data==10, 1, data)\n",
    "        profile = src.profile\n",
    "        print(profile)\n",
    "        profile.update(nodata = 99)\n",
    "        print(profile)\n",
    "        if output_file_mask != None:\n",
    "            with rst.open(output_file_mask, 'w',  **profile) as dst:\n",
    "                dst.write(data.astype(rst.uint8), 1)"
   ]
  },
  {
   "cell_type": "code",
   "execution_count": null,
   "metadata": {},
   "outputs": [],
   "source": []
  }
 ],
 "metadata": {
  "kernelspec": {
   "display_name": "Python 3.6 (DHI GRAS)",
   "language": "python",
   "name": "py3"
  },
  "language_info": {
   "codemirror_mode": {
    "name": "ipython",
    "version": 3
   },
   "file_extension": ".py",
   "mimetype": "text/x-python",
   "name": "python",
   "nbconvert_exporter": "python",
   "pygments_lexer": "ipython3",
   "version": "3.6.6"
  },
  "vscode": {
   "interpreter": {
    "hash": "4e024cb4593cb261d05d85a9dcecfceb536a0f6ff0ecfd5c219e00bdfc750897"
   }
  }
 },
 "nbformat": 4,
 "nbformat_minor": 2
}
