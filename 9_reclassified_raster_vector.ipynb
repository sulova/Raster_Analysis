{
 "cells": [
  {
   "cell_type": "code",
   "execution_count": 22,
   "metadata": {},
   "outputs": [],
   "source": [
    "import geojson\n",
    "from urllib.request import urlopen\n",
    "from shapely import geometry, wkt\n",
    "import pathlib\n",
    "import pandas\n",
    "import os\n",
    "import rasterio\n",
    "from rasterio.merge import merge \n",
    "import rasterio.features\n",
    "import numpy as np\n",
    "import glob\n",
    "import matplotlib.pyplot as plt\n",
    "import geopandas as gpd\n",
    "from shapely.geometry import Polygon, box\n",
    "from creodias_finder import query, download\n",
    "from rasterio.plot import show\n",
    "\n",
    "shp_fn = '/ncr2420/ANSU/6_Tasks/2110_ET/test/belgium_west_polygon.shp' \n",
    "rst_fn = '/ncr2420/ANSU/6_Tasks/2110_ET/test/S2GLC_belgium_west_2017_old.tif' \n",
    "out_dir = '/ncr2420/ANSU/6_Tasks/2110_ET/test/'\n",
    "\n",
    "\n",
    "value_class = 73"
   ]
  },
  {
   "cell_type": "code",
   "execution_count": 23,
   "metadata": {},
   "outputs": [],
   "source": [
    "def rasterize_vector(gdf, profile, **kwargs):\n",
    "    gdf = gdf.to_crs(profile['crs'])\n",
    "    geoms = [g.__geo_interface__ for g in gdf.geometry.values]\n",
    "    mask = rasterio.features.rasterize(\n",
    "            geoms,\n",
    "            out_shape=(profile['width'],profile['height']),\n",
    "            transform=profile['transform'], fill= 0,\n",
    "            **kwargs)\n",
    "    return mask\n",
    "\n",
    "def mask_raster_with_vector(rasterfile, vectorfile, path):\n",
    "    with rasterio.open(rasterfile) as src:\n",
    "        profile = src.profile.copy()\n",
    "            \n",
    "    gdf = gpd.read_file(vectorfile)\n",
    "   \n",
    "    mask = rasterize_vector(gdf, profile)\n",
    "    out_file = str(path + \"rasterize.tif\")\n",
    "    with rasterio.open(out_file, \"w\", **profile) as dst:\n",
    "        dst.write(mask.astype(rasterio.uint8), 1)\n",
    "    \n",
    "    return out_file\n"
   ]
  },
  {
   "cell_type": "code",
   "execution_count": 24,
   "metadata": {},
   "outputs": [],
   "source": [
    "rasterized_vector = mask_raster_with_vector(rst_fn,shp_fn, out_dir)"
   ]
  },
  {
   "cell_type": "code",
   "execution_count": 25,
   "metadata": {},
   "outputs": [],
   "source": [
    "\n",
    "def reclassified(raster_top, raster_down, out_dir=None):\n",
    "    print(raster_top)\n",
    "    with rasterio.open(raster_down) as src_down:\n",
    "        data_down = src_down.read(1)\n",
    "            \n",
    "    # Create classification masks\n",
    "    with rasterio.open(raster_top) as src_top:\n",
    "        data_top = src_top.read(1)\n",
    "        height, width = data_top.shape  \n",
    "        profile = src_top.profile\n",
    "        data = np.where(data_top==1, value_class, data_down)\n",
    "\n",
    "    if out_dir != None:\n",
    "        out_name = os.path.join(out_dir, f'reclassfied_LC.tif')\n",
    "        with rasterio.open(out_name, 'w', **profile) as dst:\n",
    "                dst.write(data.astype(rasterio.uint8), 1)\n",
    "        \n",
    "    print('Reclassified file:' + f'{out_name}')\n",
    "    \n",
    "    return data, out_name"
   ]
  },
  {
   "cell_type": "code",
   "execution_count": 21,
   "metadata": {},
   "outputs": [
    {
     "name": "stdout",
     "output_type": "stream",
     "text": [
      "/ncr2420/ANSU/6_Tasks/2110_ET/test/rasterize.tif\n",
      "Reclassified file:/ncr2420/ANSU/6_Tasks/2110_ET/test/reclassfied_LC.tif\n"
     ]
    }
   ],
   "source": [
    "grid, out_name =  reclassified(rasterized_vector, rst_fn, out_dir = out_dir)"
   ]
  },
  {
   "cell_type": "code",
   "execution_count": null,
   "metadata": {},
   "outputs": [],
   "source": []
  }
 ],
 "metadata": {
  "kernelspec": {
   "display_name": "Python 3.6 (DHI GRAS)",
   "language": "python",
   "name": "py3"
  },
  "language_info": {
   "codemirror_mode": {
    "name": "ipython",
    "version": 3
   },
   "file_extension": ".py",
   "mimetype": "text/x-python",
   "name": "python",
   "nbconvert_exporter": "python",
   "pygments_lexer": "ipython3",
   "version": "3.6.6"
  }
 },
 "nbformat": 4,
 "nbformat_minor": 2
}
