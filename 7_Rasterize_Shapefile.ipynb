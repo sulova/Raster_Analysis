{
 "cells": [
  {
   "cell_type": "code",
   "execution_count": 10,
   "metadata": {},
   "outputs": [],
   "source": [
    "from shapely import geometry, wkt\n",
    "import rasterio\n",
    "import numpy as np\n",
    "import rasterio.features\n",
    "import geopandas as gpd\n",
    "from shapely.geometry import Polygon, box\n",
    "from shapely.geometry.polygon import Polygon\n",
    "from shapely.geometry.multipolygon import MultiPolygon\n",
    "from geopandas import GeoSeries, GeoDataFrame\n",
    "\n",
    "shp = 'segura/Crop_Classification_Delivery.shp' \n",
    "rasterfile = 'segura/WorldCover.tif' \n",
    "path = 'segura/'\n",
    "\n"
   ]
  },
  {
   "cell_type": "markdown",
   "metadata": {},
   "source": [
    "# 1) Add column 'Num_class' to be burnt in raster"
   ]
  },
  {
   "cell_type": "code",
   "execution_count": 2,
   "metadata": {},
   "outputs": [],
   "source": [
    "parcels = gpd.read_file(shp)\n"
   ]
  },
  {
   "cell_type": "code",
   "execution_count": 3,
   "metadata": {},
   "outputs": [
    {
     "data": {
      "text/plain": [
       "array(['FR', 'CIT', 'CITj', 'H', 'FRj', 'INV', 'VP', 'ALM', 'V', 'OV',\n",
       "       'LBC', 'HU'], dtype=object)"
      ]
     },
     "execution_count": 3,
     "metadata": {},
     "output_type": "execute_result"
    }
   ],
   "source": [
    "parcels.C_AH2021.unique()"
   ]
  },
  {
   "cell_type": "code",
   "execution_count": 4,
   "metadata": {},
   "outputs": [],
   "source": [
    "parcels['Class_num'] = parcels['C_AH2021'].replace({ 'H':'501',\n",
    "                                                     'HU':'502',\n",
    "                                                     'CIT':'503',\n",
    "                                                     'CITj':'504',\n",
    "                                                     'FR':'505',\n",
    "                                                     'FRj':'506',\n",
    "                                                     'ALM':'507',\n",
    "                                                     'OV':'508',\n",
    "                                                     'V':'509',\n",
    "                                                     'VP':'510',\n",
    "                                                     'INV':'511',\n",
    "                                                     'LBC':'512' })\n",
    "\n"
   ]
  },
  {
   "cell_type": "code",
   "execution_count": 5,
   "metadata": {},
   "outputs": [
    {
     "data": {
      "text/html": [
       "<div>\n",
       "<style scoped>\n",
       "    .dataframe tbody tr th:only-of-type {\n",
       "        vertical-align: middle;\n",
       "    }\n",
       "\n",
       "    .dataframe tbody tr th {\n",
       "        vertical-align: top;\n",
       "    }\n",
       "\n",
       "    .dataframe thead th {\n",
       "        text-align: right;\n",
       "    }\n",
       "</style>\n",
       "<table border=\"1\" class=\"dataframe\">\n",
       "  <thead>\n",
       "    <tr style=\"text-align: right;\">\n",
       "      <th></th>\n",
       "      <th>fid</th>\n",
       "      <th>C21_M01</th>\n",
       "      <th>C21_M02</th>\n",
       "      <th>C21_M03</th>\n",
       "      <th>C21_M04</th>\n",
       "      <th>C21_M05</th>\n",
       "      <th>C21_M06</th>\n",
       "      <th>C21_M07</th>\n",
       "      <th>C21_M08</th>\n",
       "      <th>C21_M09</th>\n",
       "      <th>C20_M10</th>\n",
       "      <th>C20_M11</th>\n",
       "      <th>C20_M12</th>\n",
       "      <th>C_AH2021</th>\n",
       "      <th>Probabilit</th>\n",
       "      <th>Superficie</th>\n",
       "      <th>geometry</th>\n",
       "      <th>Class_num</th>\n",
       "    </tr>\n",
       "  </thead>\n",
       "  <tbody>\n",
       "    <tr>\n",
       "      <th>0</th>\n",
       "      <td>1.0</td>\n",
       "      <td>LAC</td>\n",
       "      <td>LAC</td>\n",
       "      <td>LAC</td>\n",
       "      <td>LAC</td>\n",
       "      <td>LAC</td>\n",
       "      <td>LAC</td>\n",
       "      <td>LAC</td>\n",
       "      <td>LAC</td>\n",
       "      <td>LAC</td>\n",
       "      <td>LAC</td>\n",
       "      <td>LAC</td>\n",
       "      <td>LAC</td>\n",
       "      <td>FR</td>\n",
       "      <td>0.45</td>\n",
       "      <td>89244.0</td>\n",
       "      <td>POLYGON ((-1.173430929550738 38.11558639322397...</td>\n",
       "      <td>505</td>\n",
       "    </tr>\n",
       "    <tr>\n",
       "      <th>1</th>\n",
       "      <td>2.0</td>\n",
       "      <td>LAC</td>\n",
       "      <td>LAC</td>\n",
       "      <td>LAC</td>\n",
       "      <td>LAC</td>\n",
       "      <td>LAC</td>\n",
       "      <td>LAC</td>\n",
       "      <td>LAC</td>\n",
       "      <td>LAC</td>\n",
       "      <td>LAC</td>\n",
       "      <td>LAC</td>\n",
       "      <td>LAC</td>\n",
       "      <td>LAC</td>\n",
       "      <td>CIT</td>\n",
       "      <td>0.31</td>\n",
       "      <td>5111.0</td>\n",
       "      <td>POLYGON ((-1.070037647175303 38.07409478302146...</td>\n",
       "      <td>503</td>\n",
       "    </tr>\n",
       "    <tr>\n",
       "      <th>2</th>\n",
       "      <td>3.0</td>\n",
       "      <td>LAC</td>\n",
       "      <td>LAC</td>\n",
       "      <td>LAC</td>\n",
       "      <td>LAC</td>\n",
       "      <td>LAC</td>\n",
       "      <td>LAC</td>\n",
       "      <td>LAC</td>\n",
       "      <td>LAC</td>\n",
       "      <td>LAC</td>\n",
       "      <td>LAC</td>\n",
       "      <td>LAC</td>\n",
       "      <td>LAC</td>\n",
       "      <td>FR</td>\n",
       "      <td>0.46</td>\n",
       "      <td>51250.0</td>\n",
       "      <td>POLYGON ((-1.174582683891562 38.11685685592683...</td>\n",
       "      <td>505</td>\n",
       "    </tr>\n",
       "  </tbody>\n",
       "</table>\n",
       "</div>"
      ],
      "text/plain": [
       "   fid C21_M01 C21_M02 C21_M03 C21_M04 C21_M05 C21_M06 C21_M07 C21_M08  \\\n",
       "0  1.0     LAC     LAC     LAC     LAC     LAC     LAC     LAC     LAC   \n",
       "1  2.0     LAC     LAC     LAC     LAC     LAC     LAC     LAC     LAC   \n",
       "2  3.0     LAC     LAC     LAC     LAC     LAC     LAC     LAC     LAC   \n",
       "\n",
       "  C21_M09 C20_M10 C20_M11 C20_M12 C_AH2021  Probabilit  Superficie  \\\n",
       "0     LAC     LAC     LAC     LAC       FR        0.45     89244.0   \n",
       "1     LAC     LAC     LAC     LAC      CIT        0.31      5111.0   \n",
       "2     LAC     LAC     LAC     LAC       FR        0.46     51250.0   \n",
       "\n",
       "                                            geometry Class_num  \n",
       "0  POLYGON ((-1.173430929550738 38.11558639322397...       505  \n",
       "1  POLYGON ((-1.070037647175303 38.07409478302146...       503  \n",
       "2  POLYGON ((-1.174582683891562 38.11685685592683...       505  "
      ]
     },
     "execution_count": 5,
     "metadata": {},
     "output_type": "execute_result"
    }
   ],
   "source": [
    "parcels.head(3)"
   ]
  },
  {
   "cell_type": "code",
   "execution_count": 6,
   "metadata": {},
   "outputs": [
    {
     "data": {
      "text/plain": [
       "array(['505', '503', '504', '501', '506', '511', '510', '507', '509',\n",
       "       '508', '512', '502'], dtype=object)"
      ]
     },
     "execution_count": 6,
     "metadata": {},
     "output_type": "execute_result"
    }
   ],
   "source": [
    "#check if all classes are burnt to numbers\n",
    "parcels.Class_num.unique()"
   ]
  },
  {
   "cell_type": "markdown",
   "metadata": {},
   "source": [
    "# Set coord system and dtype for a raster file "
   ]
  },
  {
   "cell_type": "code",
   "execution_count": 7,
   "metadata": {},
   "outputs": [],
   "source": [
    "gdf = gpd.GeoDataFrame(parcels, crs=\"EPSG:4326\", geometry='geometry')\n",
    "\n",
    "gdf['Class_num'] = gdf['Class_num'].astype('int16')\n",
    "\n",
    "gdf[\"geometry\"] = [MultiPolygon([feature]) if isinstance(feature, Polygon) \\\n",
    "    else feature for feature in gdf[\"geometry\"]]\n"
   ]
  },
  {
   "cell_type": "markdown",
   "metadata": {},
   "source": [
    "# Save a file to geojson"
   ]
  },
  {
   "cell_type": "code",
   "execution_count": 8,
   "metadata": {},
   "outputs": [
    {
     "name": "stderr",
     "output_type": "stream",
     "text": [
      "/home/jovyan/.conda/envs/py3/lib/python3.6/site-packages/geopandas/io/file.py:108: FionaDeprecationWarning: Use fiona.Env() instead.\n",
      "  with fiona.drivers():\n",
      "CPLE_NotSupported in driver GeoJSON does not support creation option ENCODING\n",
      "CPLE_NotSupported in dataset /home/jovyan/exchange/7_EvapoTranspiration/segura/Crop_Classification_Delivery_class.geojson does not support layer creation option ENCODING\n",
      "CPLE_NotSupported in dataset /home/jovyan/exchange/7_EvapoTranspiration/segura/Crop_Classification_Delivery_class.geojson does not support layer creation option ENCODING\n"
     ]
    }
   ],
   "source": [
    "\n",
    "gdf.to_file('segura/Crop_Classification_Delivery_class.geojson' , driver=\"GeoJSON\") \n"
   ]
  },
  {
   "cell_type": "markdown",
   "metadata": {},
   "source": [
    "# Rasterize vector using the shape and transform of the raster"
   ]
  },
  {
   "cell_type": "code",
   "execution_count": 11,
   "metadata": {},
   "outputs": [],
   "source": [
    "raster = rasterio.open(rasterfile)\n",
    "\n",
    "geom_value = ((geom,value) for geom, value in zip(gdf.geometry, gdf['Class_num']))\n",
    "\n",
    "rasterized = rasterio.features.rasterize(geom_value,\n",
    "                                out_shape = raster.shape,\n",
    "                                transform = raster.transform,\n",
    "                                all_touched = True,\n",
    "                                fill = -9999,   # background value\n",
    "                                dtype = np.int16)\n",
    "\n",
    "with rasterio.open(\"segura/rasterized_crop.tif\", \"w\",\n",
    "        driver = \"GTiff\",\n",
    "        transform = raster.transform,\n",
    "        dtype = rasterio.int16,\n",
    "        count = 1,\n",
    "        crs = raster.crs,\n",
    "        nodata = -9999,\n",
    "        compress = 'lzw',\n",
    "        width = raster.width,\n",
    "        height = raster.height) as dst:\n",
    "    dst.write(rasterized, indexes = 1)\n",
    "    "
   ]
  },
  {
   "cell_type": "markdown",
   "metadata": {},
   "source": [
    "# Compress final raster"
   ]
  },
  {
   "cell_type": "code",
   "execution_count": null,
   "metadata": {},
   "outputs": [],
   "source": [
    "\n",
    "dat = rasterio.open(\"segura/WorldCover.tif\")\n",
    "profile = dat.profile.copy()\n",
    "profile.update(compress='lzw')\n",
    "\n",
    "with rasterio.open(\"segura/WorldCover_compressed.tif\", 'w', **profile) as dst:\n",
    "    for ji, window in dat.block_windows(1):\n",
    "        dst.write(dat.read(window=window), window=window)"
   ]
  },
  {
   "cell_type": "code",
   "execution_count": null,
   "metadata": {},
   "outputs": [],
   "source": []
  },
  {
   "cell_type": "code",
   "execution_count": null,
   "metadata": {},
   "outputs": [],
   "source": []
  }
 ],
 "metadata": {
  "kernelspec": {
   "display_name": "Python 3.6 (DHI GRAS)",
   "language": "python",
   "name": "py3"
  },
  "language_info": {
   "codemirror_mode": {
    "name": "ipython",
    "version": 3
   },
   "file_extension": ".py",
   "mimetype": "text/x-python",
   "name": "python",
   "nbconvert_exporter": "python",
   "pygments_lexer": "ipython3",
   "version": "3.6.6"
  }
 },
 "nbformat": 4,
 "nbformat_minor": 2
}
