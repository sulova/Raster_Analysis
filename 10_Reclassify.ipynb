{
 "cells": [
  {
   "cell_type": "markdown",
   "metadata": {},
   "source": [
    "## Reclassify the classified image: \n",
    "**- good class (bathymetry) -1**\n",
    "\n",
    "**- weak class - 5**\n",
    "\n",
    "**- other classses - 2, 3, 4,..., etc.**\n",
    "\n"
   ]
  },
  {
   "cell_type": "code",
   "execution_count": null,
   "metadata": {},
   "outputs": [],
   "source": [
    "import os\n",
    "import numpy as np\n",
    "import rioxarray\n",
    "import rasterio as rst\n",
    "import matplotlib.pyplot as plt\n",
    "class fonttype:\n",
    "    BOLD = '\\033[1m'\n",
    "    END = '\\033[0m'"
   ]
  },
  {
   "cell_type": "code",
   "execution_count": null,
   "metadata": {},
   "outputs": [],
   "source": [
    "classified = '/ncr2421/SDB_Garmin_Bahamas/18RTQ/20210523/TEST/SDB_ANSU_Weak_v7_class.tif'\n",
    "bathy = '/ncr2421/SDB_Garmin_Bahamas/18RTQ/20210523/TEST/v07_20210809_bathy.tif'\n",
    "local_dir = '/ncr2421/SDB_Garmin_Bahamas/18RTQ/20210523/TEST/'\n",
    "\n",
    "class_codes = {\n",
    "    'good' : 1,\n",
    "    'nodata' : 2,\n",
    "    'interpolate' : 3,\n",
    "    'extrapolate' : 4,\n",
    "    'land' : 1,\n",
    "    'smooth' : 4,\n",
    "    'outside' :0,\n",
    "    'weak': 5,\n",
    "} "
   ]
  },
  {
   "cell_type": "code",
   "execution_count": null,
   "metadata": {},
   "outputs": [],
   "source": [
    "### Interpolation of eCog raster output ###\n",
    "def reclassified(classified, class_codes, out_dir=None):\n",
    "    # Create classification masks\n",
    "    with rst.open(classified) as src:\n",
    "        data = src.read(1)\n",
    "        height, width = data.shape  \n",
    "        profile = src.profile\n",
    "        \n",
    "        data = np.where(data==class_codes['extrapolate'], 5, data)\n",
    "        data = np.where(data==class_codes['smooth'], 5, data)\n",
    "        data = np.where(data==class_codes['weak'], 5, data)\n",
    "        data = np.where(data==class_codes['interpolate'], 5, data)\n",
    "               \n",
    "        data = np.where(data==class_codes['good'], 1, data) \n",
    "        \n",
    "        data = np.where(data==class_codes['nodata'],3, data)\n",
    "        data = np.where(data==class_codes['outside'], 3, data)\n",
    "        data = np.where(data==class_codes['land'],3, data)\n",
    "        #data = np.where(data==class_codes['outside'], np.nan, data)\n",
    "\n",
    "    img_name = classified.split('\\\\')[-1][:-4]\n",
    "\n",
    "    out_name = ''\n",
    "    if out_dir != None:\n",
    "        out_name = os.path.join(out_dir, f'{img_name}_reclassified.tif')\n",
    "        with rst.open(out_name, 'w', **profile) as dst:\n",
    "                dst.write(data.astype(rst.int8), 1)\n",
    "        \n",
    "    print('Reclassified file:' + fonttype.BOLD + f'{out_name}' + fonttype.END)\n",
    "    \n",
    "    return data, out_name"
   ]
  },
  {
   "cell_type": "code",
   "execution_count": null,
   "metadata": {},
   "outputs": [],
   "source": [
    "grid, out_name =  reclassified(classified, class_codes, out_dir= local_dir)"
   ]
  },
  {
   "cell_type": "code",
   "execution_count": null,
   "metadata": {},
   "outputs": [],
   "source": [
    "# To see input files rasters:\n",
    "with rst.open(out_name) as src:\n",
    "    array = src.read(1)\n",
    "    plt.imshow(array)\n",
    "    plt.show() "
   ]
  },
  {
   "cell_type": "markdown",
   "metadata": {},
   "source": [
    "# C. Clip the SDB with SHP"
   ]
  },
  {
   "cell_type": "code",
   "execution_count": 12,
   "metadata": {},
   "outputs": [],
   "source": [
    "import geopandas\n",
    "import os\n",
    "import rioxarray\n",
    "import rasterio as rst\n",
    "import matplotlib.pyplot as plt\n",
    "\n",
    "class fonttype:\n",
    "    BOLD = '\\033[1m'\n",
    "    END = '\\033[0m'\n",
    "\n",
    "#raster = grid_path\n",
    "raster ='/ncr2421/SDB_Garmin_Bahamas/18RTQ/20210523/TEST/SDB_ANSU_Weak_v7_class.tif'\n",
    "shp =\"/ncr2421/SDB_Garmin_Bahamas/18RTQ/AOI_Demo.shp\"\n",
    "out_dir = '/ncr2421/SDB_Garmin_Bahamas/18RTQ/20210523/TEST/'\n",
    "\n",
    "shp_file = geopandas.read_file(shp)\n",
    "raster_file = rioxarray.open_rasterio(raster).squeeze()\n",
    "# transfor to the raster CRS\n",
    "shp_file_crs = shp_file.to_crs(raster_file.crs)"
   ]
  },
  {
   "cell_type": "code",
   "execution_count": 13,
   "metadata": {},
   "outputs": [
    {
     "name": "stdout",
     "output_type": "stream",
     "text": [
      "Clipped raster: \u001b[1m/ncr2421/SDB_Garmin_Bahamas/18RTQ/20210523/TEST/SDB_ANSU_Weak_v7_class_Clipped.tif\u001b[0m\n"
     ]
    }
   ],
   "source": [
    "# clipped = raster_file.rio.clip(shp_file_crs.geometry, shp_file_crs.crs, drop=False, invert=False)\n",
    "clipped = raster_file.rio.clip(shp_file_crs.geometry)\n",
    "\n",
    "# Save the clipped raster\n",
    "img_name = raster.split('\\\\')[-1][:-4]\n",
    "out_name = os.path.join(out_dir, f'{img_name}_Clipped.tif')\n",
    "clipped_AOI = clipped.rio.to_raster(out_name, tiled=True, dtype=\"float32\")\n",
    "print('Clipped raster:',fonttype.BOLD + f'{out_name}' + fonttype.END )"
   ]
  },
  {
   "cell_type": "code",
   "execution_count": 14,
   "metadata": {},
   "outputs": [
    {
     "data": {
      "image/png": "[encoded data removed]",
      "text/plain": [
       "<Figure size 432x288 with 1 Axes>"
      ]
     },
     "metadata": {
      "needs_background": "light"
     },
     "output_type": "display_data"
    }
   ],
   "source": [
    "with rst.open(out_name) as src:\n",
    "    array = src.read(1)\n",
    "    plt.imshow(array)\n",
    "    plt.show() "
   ]
  },
  {
   "cell_type": "code",
   "execution_count": null,
   "metadata": {},
   "outputs": [],
   "source": []
  }
 ],
 "metadata": {
  "kernelspec": {
   "display_name": "Python 3.6 (DHI GRAS)",
   "language": "python",
   "name": "py3"
  },
  "language_info": {
   "codemirror_mode": {
    "name": "ipython",
    "version": 3
   },
   "file_extension": ".py",
   "mimetype": "text/x-python",
   "name": "python",
   "nbconvert_exporter": "python",
   "pygments_lexer": "ipython3",
   "version": "3.6.6"
  }
 },
 "nbformat": 4,
 "nbformat_minor": 4
}
