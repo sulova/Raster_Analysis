{
 "cells": [
  {
   "cell_type": "code",
   "execution_count": 12,
   "metadata": {},
   "outputs": [],
   "source": [
    "from shapely import geometry, wkt\n",
    "import rasterio\n",
    "import numpy as np\n",
    "import rasterio.features\n",
    "import geopandas as gpd\n",
    "import fiona  \n",
    "from rasterio import features as rio_features \n",
    "from shapely.geometry import Polygon, box\n",
    "from shapely.geometry.polygon import Polygon\n",
    "from shapely.geometry.multipolygon import MultiPolygon\n",
    "from geopandas import GeoSeries, GeoDataFrame\n",
    "\n",
    "# multiple classes\n",
    "vector_file = 'veg_class.geojson' \n",
    "raster_file = 'WorldCover.tif' \n",
    "rasterOuput = 'rasterized_crop.tif'\n",
    "out_dir = ''\n"
   ]
  },
  {
   "cell_type": "markdown",
   "metadata": {},
   "source": [
    "# 1) Rasterize Vector file - Values saved in attribute column"
   ]
  },
  {
   "cell_type": "code",
   "execution_count": 7,
   "metadata": {},
   "outputs": [
    {
     "name": "stdout",
     "output_type": "stream",
     "text": [
      "{'driver': 'GTiff', 'dtype': 'uint8', 'nodata': 0, 'width': 72000, 'height': 36000, 'count': 1, 'crs': CRS({'init': 'epsg:4326'}), 'transform': Affine(8.333333333333333e-05, 0.0, 6.0,\n",
      "       0.0, -8.333333333333333e-05, 51.0), 'blockxsize': 1024, 'blockysize': 1024, 'tiled': True, 'compress': 'lzw', 'interleave': 'band'}\n",
      "0 103\n"
     ]
    }
   ],
   "source": [
    "\n",
    "# Read the vector file as a GeoDataFrame\n",
    "gdf = gpd.read_file(vector_file)\n",
    "\n",
    "with rasterio.open(raster_file) as raster:\n",
    "    raster_shape      = raster.shape\n",
    "    raster_transform  =  raster.transform\n",
    "    raster_profile    = raster.profile\n",
    "    \n",
    "\n",
    "#with fiona.open(vectorfile, \"r\") as vector:\n",
    "geom_value = ((geom,value) for geom, value in zip(gdf.geometry, gdf.Class))\n",
    "raster = rio_features.rasterize(geom_value,\n",
    "                                out_shape=raster_shape,\n",
    "                                transform=raster_transform,\n",
    "                                all_touched=True,\n",
    "                                fill=0,\n",
    "                                dtype=np.uint8)   \n",
    "    \n",
    "raster_profile.update(nodata=0, dtype= 'uint8')\n",
    "   \n",
    "out_filename = rasterOuput\n",
    "\n",
    "print(raster_profile)\n",
    "print(raster.min(), raster.max())\n",
    "\n",
    "with rasterio.open(out_filename, \"w\", **raster_profile) as dst:\n",
    "        dst.write(raster, 1) "
   ]
  },
  {
   "cell_type": "markdown",
   "metadata": {},
   "source": [
    "# 2) Burn the rasterized classes to a tif file (World Cover)"
   ]
  },
  {
   "cell_type": "code",
   "execution_count": null,
   "metadata": {},
   "outputs": [
    {
     "name": "stdout",
     "output_type": "stream",
     "text": [
      "{'driver': 'GTiff', 'dtype': 'uint8', 'nodata': 0.0, 'width': 72000, 'height': 36000, 'count': 1, 'crs': CRS({'init': 'epsg:4326'}), 'transform': Affine(8.333333333333333e-05, 0.0, 6.0,\n",
      "       0.0, -8.333333333333333e-05, 51.0)}\n"
     ]
    }
   ],
   "source": [
    "import rasterio\n",
    "from rasterio.merge import merge\n",
    "\n",
    "# Open the two raster files to be merged\n",
    "raster1 = rasterio.open('WorldCover.tif')\n",
    "raster2 = rasterio.open('rasterized_crop.tif')\n",
    "\n",
    "# Read the metadata of the first raster\n",
    "meta = raster1.meta.copy()\n",
    "print(meta)\n",
    "\n",
    "# Create a list of the two raster datasets\n",
    "datasets = [raster2, raster1]\n",
    "\n",
    "# Perform the merge\n",
    "mosaic, _ = merge(datasets)\n",
    "\n",
    "mosaic_shape= mosaic.shape\n",
    "print(mosaic_shape)\n",
    "\n",
    "# Update the metadata with the merged shape and data type\n",
    "meta.update(count=1)\n",
    "\n",
    "# Update the data type of the merged mosaic to match the first raster\n",
    "mosaic = mosaic.astype(raster1.meta[\"dtype\"])\n",
    "\n",
    "# Save the merged raster\n",
    "merged_path = 'WorldCover_reclass.tif'\n",
    "with rasterio.open(merged_path, 'w', **meta) as dst:\n",
    "    dst.write(mosaic,)\n"
   ]
  },
  {
   "cell_type": "markdown",
   "metadata": {},
   "source": [
    "# 3) Compressed a tif file"
   ]
  },
  {
   "cell_type": "code",
   "execution_count": null,
   "metadata": {},
   "outputs": [],
   "source": [
    "\n",
    "dat = rasterio.open(\"WorldCover_reclass.tif\")\n",
    "profile = dat.profile.copy()\n",
    "profile.update(compress='lzw')\n",
    "\n",
    "with rasterio.open(\"WorldCover_compressed.tif\", 'w', **profile) as dst:\n",
    "    for ji, window in dat.block_windows(1):\n",
    "        dst.write(dat.read(window=window), window=window)"
   ]
  },
  {
   "cell_type": "code",
   "execution_count": null,
   "metadata": {},
   "outputs": [],
   "source": []
  },
  {
   "cell_type": "code",
   "execution_count": null,
   "metadata": {},
   "outputs": [],
   "source": []
  }
 ],
 "metadata": {
  "kernelspec": {
   "display_name": "Python 3.6 (DHI GRAS)",
   "language": "python",
   "name": "py3"
  },
  "language_info": {
   "codemirror_mode": {
    "name": "ipython",
    "version": 3
   },
   "file_extension": ".py",
   "mimetype": "text/x-python",
   "name": "python",
   "nbconvert_exporter": "python",
   "pygments_lexer": "ipython3",
   "version": "3.6.6"
  }
 },
 "nbformat": 4,
 "nbformat_minor": 2
}
